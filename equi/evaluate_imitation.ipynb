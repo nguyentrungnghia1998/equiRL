{
 "cells": [
  {
   "cell_type": "code",
   "execution_count": 1,
   "metadata": {},
   "outputs": [
    {
     "name": "stdout",
     "output_type": "stream",
     "text": [
      "/home/hnguyen/nghia_branch/ourproject/equiRL\n"
     ]
    }
   ],
   "source": [
    "%cd .."
   ]
  },
  {
   "cell_type": "code",
   "execution_count": 2,
   "metadata": {},
   "outputs": [],
   "source": [
    "%%bash\n",
    "\n",
    ". ./prepare_1.0.sh"
   ]
  },
  {
   "cell_type": "code",
   "execution_count": 3,
   "metadata": {},
   "outputs": [],
   "source": [
    "from equi_agent import ActorEquivariant_1\n",
    "import utils"
   ]
  },
  {
   "cell_type": "code",
   "execution_count": null,
   "metadata": {},
   "outputs": [],
   "source": [
    "obs_shape, action_shape, hidden_dim, 'pixel-equivariant',\n",
    "            encoder_feature_dim, actor_log_std_min, actor_log_std_max,\n",
    "            num_layers, num_filters, num_rotations"
   ]
  },
  {
   "cell_type": "code",
   "execution_count": null,
   "metadata": {},
   "outputs": [],
   "source": [
    "obs_shape = "
   ]
  }
 ],
 "metadata": {
  "kernelspec": {
   "display_name": "softgym",
   "language": "python",
   "name": "python3"
  },
  "language_info": {
   "codemirror_mode": {
    "name": "ipython",
    "version": 3
   },
   "file_extension": ".py",
   "mimetype": "text/x-python",
   "name": "python",
   "nbconvert_exporter": "python",
   "pygments_lexer": "ipython3",
   "version": "3.8.13"
  },
  "orig_nbformat": 4,
  "vscode": {
   "interpreter": {
    "hash": "a70e410a95a92e7efbb302c62263abaa2138db43536f2d92d4b110b7da6b08d4"
   }
  }
 },
 "nbformat": 4,
 "nbformat_minor": 2
}
